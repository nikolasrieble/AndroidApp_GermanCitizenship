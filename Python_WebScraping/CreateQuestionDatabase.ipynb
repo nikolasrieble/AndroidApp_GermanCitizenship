{
 "cells": [
  {
   "cell_type": "markdown",
   "metadata": {},
   "source": [
    "# Preparation"
   ]
  },
  {
   "cell_type": "code",
   "execution_count": 16,
   "metadata": {},
   "outputs": [],
   "source": [
    "import requests\n",
    "from bs4 import BeautifulSoup\n",
    "import numpy as np\n",
    "import sqlite3\n",
    "import lxml\n",
    "import pandas as pd\n",
    "import urllib.request"
   ]
  },
  {
   "cell_type": "code",
   "execution_count": 17,
   "metadata": {},
   "outputs": [],
   "source": [
    "DB_NAME = 'AllGermanCitizenshipV2.db'\n",
    "base = 'https://www.einbuergerungstest-online.eu/'\n",
    "question_subsite = 'fragen/'\n",
    "pages = [''] + [str(i) for i in np.arange(2,11)] #first pages does not start with '1' but with ''"
   ]
  },
  {
   "cell_type": "code",
   "execution_count": 18,
   "metadata": {},
   "outputs": [],
   "source": [
    "def get_questions(soup, category = \"Allgemein\"):\n",
    "    mydivs = soup.findAll(\"div\", {\"class\": \"questions-question-text\"})\n",
    "    questions  =[[list(j.children) for j in list(i.children)] for i in mydivs]\n",
    "\n",
    "    clean = []\n",
    "    for q in questions:\n",
    "        #get the link if existing - else set a link to None\n",
    "        try: \n",
    "            qid, qtext = q\n",
    "            qlink = None\n",
    "        except:\n",
    "            qid, qtext, qlink = q\n",
    "            #extract the link\n",
    "            qlink = qlink[0]['href']\n",
    "\n",
    "        #extract the text without the link\n",
    "        if qtext[0].format:\n",
    "            rawtext = qtext[0].extract()\n",
    "        else:\n",
    "            rawtext = qtext[0].text\n",
    "\n",
    "        clean.append((qid[0], rawtext, qlink, category))\n",
    "    return clean"
   ]
  },
  {
   "cell_type": "code",
   "execution_count": 19,
   "metadata": {},
   "outputs": [],
   "source": [
    "def get_answers(soup, state = False):\n",
    "    answers = list(soup.findAll(\"li\"))\n",
    "    #get only the answers on the page and ignore the rest\n",
    "    if state:\n",
    "        raw = [list(i.children)[0] for i in answers][25:-3]\n",
    "    else:\n",
    "        raw = [list(i.children)[0] for i in answers][35:-12]   \n",
    "        \n",
    "    # clear the answers from the green coloring on the website which indicates truth\n",
    "    # add truth indicator as 0 or 1 \n",
    "    clean = []\n",
    "    for content in raw:\n",
    "        if content.format:\n",
    "            clean.append((content.extract(), 0))\n",
    "        else:\n",
    "            clean.append((content.text, 1))   \n",
    "    if state:\n",
    "        return np.array(clean[:10*4]).reshape(10,4,2)\n",
    "    return np.array(clean[:30*4]).reshape(30,4,2)"
   ]
  },
  {
   "cell_type": "markdown",
   "metadata": {},
   "source": [
    "# Scraping national-level questions"
   ]
  },
  {
   "cell_type": "code",
   "execution_count": 20,
   "metadata": {},
   "outputs": [],
   "source": [
    "questions = []\n",
    "answers = []\n",
    "\n",
    "for page in pages:\n",
    "    url_to_scrape = base + question_subsite + page\n",
    "    r = requests.get(url_to_scrape)\n",
    "    soup = BeautifulSoup(r.text, \"lxml\")\n",
    "\n",
    "    answers.append((get_answers(soup)))\n",
    "    questions.append((get_questions(soup)))"
   ]
  },
  {
   "cell_type": "markdown",
   "metadata": {},
   "source": [
    "# Scraping state-level question"
   ]
  },
  {
   "cell_type": "code",
   "execution_count": 21,
   "metadata": {},
   "outputs": [],
   "source": [
    "states = [\"bw\", \"by\", \"be\", \"bb\", \"hb\", \"hh\", \"he\",\"mv\",\"ni\",\"nw\", \"rp\",\"sl\",\"sn\",\"st\",\"sh\",\"th\"]\n",
    "category = [\"Baden-Württemberg\",\n",
    "          \"Bayern\",\n",
    "          \"Berlin\",\n",
    "          \"Brandenburg\",\n",
    "          \"Bremen\",\n",
    "          \"Hamburg\",\n",
    "          \"Hessen\",\n",
    "          \"Mecklenburg-Vorpommern\",\n",
    "          \"Niedersachsen\",\n",
    "          \"Nordrhein-Westfalen\",\n",
    "          \"Rheinland-Pfalz\",\n",
    "          \"Saarland\",\n",
    "          \"Sachsen\",\n",
    "          \"Sachsen-Anhalt\",\n",
    "          \"Schleswig-Holstein\",\n",
    "          \"Thüringen\"]\n",
    "\n",
    "for idx, state in enumerate(states): \n",
    "    url_to_scrape = base + question_subsite + state\n",
    "    r = requests.get(url_to_scrape)\n",
    "    soup = BeautifulSoup(r.text, \"lxml\")\n",
    "    \n",
    "    questions.append((get_questions(soup, category[idx])))\n",
    "    answers.append(get_answers(soup, state=True))\n",
    "    \n"
   ]
  },
  {
   "cell_type": "code",
   "execution_count": 21,
   "metadata": {},
   "outputs": [],
   "source": []
  },
  {
   "cell_type": "markdown",
   "metadata": {},
   "source": [
    "# Scraping Images"
   ]
  },
  {
   "cell_type": "code",
   "execution_count": 22,
   "metadata": {},
   "outputs": [],
   "source": [
    "import itertools\n",
    "questions_flat = list(itertools.chain(*questions))\n",
    "images =  np.hstack(questions_flat)\n",
    "images = [img for img in images[2::4] if img]\n",
    "\n",
    "for image_i in images:\n",
    "    urllib.request.urlretrieve(base + image_i, \"q\"+image_i.split(\"/\")[3])"
   ]
  },
  {
   "cell_type": "markdown",
   "metadata": {},
   "source": [
    "# Saving Results to DB"
   ]
  },
  {
   "cell_type": "code",
   "execution_count": 23,
   "metadata": {},
   "outputs": [],
   "source": [
    "import sqlite3\n",
    "conn = sqlite3.connect(DB_NAME)\n",
    "c = conn.cursor() \n",
    "\n",
    "\n",
    "c.execute(\"CREATE TABLE IF NOT EXISTS Question ([ID] INTEGER PRIMARY KEY,[Text] VARCHAR(1000), [Image] VARCHAR(250), [Category] VARCHAR(250))\")          \n",
    "\n",
    "c.execute('''CREATE TABLE IF NOT EXISTS Answer ([ID] INTEGER PRIMARY KEY, [QuestionID] INTEGER, [Text] VARCHAR(1000),  [True] INTEGER)''')\n",
    "\n",
    "c.execute('''CREATE TABLE IF NOT EXISTS ProgressEvent ([generated_id] INTEGER PRIMARY KEY, [QuestionID] INTEGER, [Success] INTEGER)''')\n",
    "        \n",
    "                \n",
    "conn.commit()"
   ]
  },
  {
   "cell_type": "code",
   "execution_count": 24,
   "metadata": {},
   "outputs": [],
   "source": [
    "# add QUESTIONS to database \n",
    "for q in np.hstack(questions_flat).reshape((460,4)):\n",
    "    query = 'INSERT INTO Question (ID, Text, Image, Category) VALUES (\"{}\", \"{}\", \"{}\", \"{}\");'.format(q[0], q[1], q[2], q[3])\n",
    "    c.execute(query)\n",
    "    \n",
    "conn.commit()\n",
    "\n",
    "# add ANSWERS to database\n",
    "for qid, a in enumerate(np.vstack(np.array([np.array(i) for i in answers]).flatten())):\n",
    "    for poss_answer in a:\n",
    "        query = 'INSERT INTO Answer (QuestionID, Text, True) VALUES (\"{}\", \"{}\", \"{}\");'.format(qid+1, poss_answer[0], poss_answer[1])\n",
    "        c.execute(query)\n",
    "    \n",
    "conn.commit()"
   ]
  },
  {
   "cell_type": "markdown",
   "metadata": {},
   "source": [
    "# Sanity Check"
   ]
  },
  {
   "cell_type": "code",
   "execution_count": 25,
   "metadata": {},
   "outputs": [],
   "source": [
    "conn = sqlite3.connect(DB_NAME)\n",
    "c = conn.cursor() \n",
    "c.execute('Select * from Question')\n",
    "\n",
    "df_answers = pd.read_sql('Select * from Answer', conn)\n",
    "df_questions = pd.read_sql('Select * from Question', conn)"
   ]
  },
  {
   "cell_type": "code",
   "execution_count": 26,
   "metadata": {},
   "outputs": [
    {
     "name": "stdout",
     "output_type": "stream",
     "text": [
      "   ID                                               Text Image   Category\n",
      "0   1  In Deutschland dürfen Menschen offen etwas geg...  None  Allgemein\n",
      "1   2  In Deutschland können Eltern bis zum 14. Leben...  None  Allgemein\n",
      "2   3  Deutschland ist ein Rechtsstaat. Was ist damit...  None  Allgemein\n",
      "3   4  Welches Recht gehört zu den Grundrechten in De...  None  Allgemein\n",
      "4   5  Wahlen in Deutschland sind frei. Was bedeutet ...  None  Allgemein\n"
     ]
    }
   ],
   "source": [
    "print(df_questions.head())"
   ]
  },
  {
   "cell_type": "code",
   "execution_count": 27,
   "metadata": {},
   "outputs": [
    {
     "name": "stdout",
     "output_type": "stream",
     "text": [
      "   ID  QuestionID                               Text  True\n",
      "0   1           1       hier Religionsfreiheit gilt.     0\n",
      "1   2           1       die Menschen Steuern zahlen.     0\n",
      "2   3           1  die Menschen das Wahlrecht haben.     0\n",
      "3   4           1        hier Meinungsfreiheit gilt.     1\n",
      "4   5           2    Geschichtsunterricht teilnimmt.     0\n"
     ]
    }
   ],
   "source": [
    "print(df_answers.head())"
   ]
  },
  {
   "cell_type": "code",
   "execution_count": 28,
   "metadata": {},
   "outputs": [],
   "source": [
    "df = pd.read_sql('Select Question.ID, Count(Answer.ID), SUM(Answer.True) from Question inner join Answer on Answer.QuestionID = Question.ID group by Question.ID', conn)"
   ]
  },
  {
   "cell_type": "code",
   "execution_count": 29,
   "metadata": {},
   "outputs": [
    {
     "data": {
      "text/plain": "(ID                  230.5\n Count(Answer.ID)      4.0\n SUM(Answer.True)      1.0\n dtype: float64,\n ID                  230.5\n Count(Answer.ID)      4.0\n SUM(Answer.True)      1.0\n dtype: float64)"
     },
     "execution_count": 29,
     "metadata": {},
     "output_type": "execute_result"
    }
   ],
   "source": [
    "df.mean(), df.median()"
   ]
  },
  {
   "cell_type": "code",
   "execution_count": 30,
   "metadata": {},
   "outputs": [
    {
     "data": {
      "text/plain": "      ID                                               Text  \\\n0      1  In Deutschland dürfen Menschen offen etwas geg...   \n1      2  In Deutschland können Eltern bis zum 14. Leben...   \n2      3  Deutschland ist ein Rechtsstaat. Was ist damit...   \n3      4  Welches Recht gehört zu den Grundrechten in De...   \n4      5  Wahlen in Deutschland sind frei. Was bedeutet ...   \n..   ...                                                ...   \n455  456  Wo können Sie sich in Thüringen über politisch...   \n456  457         Die Landeshauptstadt von Thüringen heißt …   \n457  458                  Welches Bundesland ist Thüringen?   \n458  459  Wie nennt man den Regierungschef / die Regieru...   \n459  460  Welchen Minister / welche Ministerin hat Thüri...   \n\n                   Image   Category  \n0                   None  Allgemein  \n1                   None  Allgemein  \n2                   None  Allgemein  \n3                   None  Allgemein  \n4                   None  Allgemein  \n..                   ...        ...  \n455                 None  Thüringen  \n456                 None  Thüringen  \n457  /img/fragen/458.png  Thüringen  \n458                 None  Thüringen  \n459                 None  Thüringen  \n\n[460 rows x 4 columns]",
      "text/html": "<div>\n<style scoped>\n    .dataframe tbody tr th:only-of-type {\n        vertical-align: middle;\n    }\n\n    .dataframe tbody tr th {\n        vertical-align: top;\n    }\n\n    .dataframe thead th {\n        text-align: right;\n    }\n</style>\n<table border=\"1\" class=\"dataframe\">\n  <thead>\n    <tr style=\"text-align: right;\">\n      <th></th>\n      <th>ID</th>\n      <th>Text</th>\n      <th>Image</th>\n      <th>Category</th>\n    </tr>\n  </thead>\n  <tbody>\n    <tr>\n      <th>0</th>\n      <td>1</td>\n      <td>In Deutschland dürfen Menschen offen etwas geg...</td>\n      <td>None</td>\n      <td>Allgemein</td>\n    </tr>\n    <tr>\n      <th>1</th>\n      <td>2</td>\n      <td>In Deutschland können Eltern bis zum 14. Leben...</td>\n      <td>None</td>\n      <td>Allgemein</td>\n    </tr>\n    <tr>\n      <th>2</th>\n      <td>3</td>\n      <td>Deutschland ist ein Rechtsstaat. Was ist damit...</td>\n      <td>None</td>\n      <td>Allgemein</td>\n    </tr>\n    <tr>\n      <th>3</th>\n      <td>4</td>\n      <td>Welches Recht gehört zu den Grundrechten in De...</td>\n      <td>None</td>\n      <td>Allgemein</td>\n    </tr>\n    <tr>\n      <th>4</th>\n      <td>5</td>\n      <td>Wahlen in Deutschland sind frei. Was bedeutet ...</td>\n      <td>None</td>\n      <td>Allgemein</td>\n    </tr>\n    <tr>\n      <th>...</th>\n      <td>...</td>\n      <td>...</td>\n      <td>...</td>\n      <td>...</td>\n    </tr>\n    <tr>\n      <th>455</th>\n      <td>456</td>\n      <td>Wo können Sie sich in Thüringen über politisch...</td>\n      <td>None</td>\n      <td>Thüringen</td>\n    </tr>\n    <tr>\n      <th>456</th>\n      <td>457</td>\n      <td>Die Landeshauptstadt von Thüringen heißt …</td>\n      <td>None</td>\n      <td>Thüringen</td>\n    </tr>\n    <tr>\n      <th>457</th>\n      <td>458</td>\n      <td>Welches Bundesland ist Thüringen?</td>\n      <td>/img/fragen/458.png</td>\n      <td>Thüringen</td>\n    </tr>\n    <tr>\n      <th>458</th>\n      <td>459</td>\n      <td>Wie nennt man den Regierungschef / die Regieru...</td>\n      <td>None</td>\n      <td>Thüringen</td>\n    </tr>\n    <tr>\n      <th>459</th>\n      <td>460</td>\n      <td>Welchen Minister / welche Ministerin hat Thüri...</td>\n      <td>None</td>\n      <td>Thüringen</td>\n    </tr>\n  </tbody>\n</table>\n<p>460 rows × 4 columns</p>\n</div>"
     },
     "execution_count": 30,
     "metadata": {},
     "output_type": "execute_result"
    }
   ],
   "source": [
    "pd.read_sql('Select * from Question', conn)"
   ]
  },
  {
   "cell_type": "code",
   "execution_count": 30,
   "metadata": {},
   "outputs": [],
   "source": []
  }
 ],
 "metadata": {
  "kernelspec": {
   "display_name": "Python 3",
   "language": "python",
   "name": "python3"
  },
  "language_info": {
   "codemirror_mode": {
    "name": "ipython",
    "version": 3
   },
   "file_extension": ".py",
   "mimetype": "text/x-python",
   "name": "python",
   "nbconvert_exporter": "python",
   "pygments_lexer": "ipython3",
   "version": "3.7.5"
  },
  "toc": {
   "base_numbering": 1,
   "nav_menu": {},
   "number_sections": true,
   "sideBar": true,
   "skip_h1_title": false,
   "title_cell": "Table of Contents",
   "title_sidebar": "Contents",
   "toc_cell": false,
   "toc_position": {},
   "toc_section_display": true,
   "toc_window_display": false
  }
 },
 "nbformat": 4,
 "nbformat_minor": 2
}