{
 "cells": [
  {
   "cell_type": "markdown",
   "metadata": {},
   "source": [
    "# Preparation"
   ]
  },
  {
   "cell_type": "code",
   "execution_count": 1,
   "metadata": {},
   "outputs": [],
   "source": [
    "import requests\n",
    "from bs4 import BeautifulSoup\n",
    "import numpy as np\n",
    "import sqlite3\n",
    "import lxml\n",
    "import pandas as pd"
   ]
  },
  {
   "cell_type": "code",
   "execution_count": 2,
   "metadata": {},
   "outputs": [],
   "source": [
    "base = 'https://www.einbuergerungstest-online.eu/'\n",
    "question_subsite = 'fragen/'\n",
    "pages = [''] + [str(i) for i in np.arange(2,11)] #first pages does not start with '1' but with ''"
   ]
  },
  {
   "cell_type": "code",
   "execution_count": 3,
   "metadata": {},
   "outputs": [],
   "source": [
    "def get_questions(soup):\n",
    "    mydivs = soup.findAll(\"div\", {\"class\": \"questions-question-text\"})\n",
    "    questions  =[[list(j.children) for j in list(i.children)] for i in mydivs]\n",
    "\n",
    "    clean = []\n",
    "    for q in questions:\n",
    "        #get the link if existing - else set a link to None\n",
    "        try: \n",
    "            qid, qtext = q\n",
    "            qlink = None\n",
    "        except:\n",
    "            qid, qtext, qlink = q\n",
    "            #extract the link\n",
    "            qlink = qlink[0]['href']\n",
    "\n",
    "        #extract the text without the link\n",
    "        if qtext[0].format:\n",
    "            rawtext = qtext[0].extract()\n",
    "        else:\n",
    "            rawtext = qtext[0].text\n",
    "\n",
    "        clean.append((qid[0], rawtext, qlink))\n",
    "    return clean"
   ]
  },
  {
   "cell_type": "code",
   "execution_count": 4,
   "metadata": {},
   "outputs": [],
   "source": [
    "def get_answers(soup):\n",
    "    answers = list(soup.findAll(\"li\"))\n",
    "    raw = [list(i.children)[0] for i in answers][35:-12] #get only the answers on the page and ignore the rest\n",
    "\n",
    "    # clear the answers from the green coloring on the website which indicates truth\n",
    "    # add truth indicator as 0 or 1 \n",
    "    clean = []\n",
    "    for content in raw:\n",
    "        if content.format:\n",
    "            clean.append((content.extract(), 0))\n",
    "        else:\n",
    "            clean.append((content.text, 1))   \n",
    "    return np.array(clean[:30*4]).reshape(30,4,2)"
   ]
  },
  {
   "cell_type": "markdown",
   "metadata": {},
   "source": [
    "# Scraping"
   ]
  },
  {
   "cell_type": "code",
   "execution_count": 5,
   "metadata": {},
   "outputs": [],
   "source": [
    "questions = []\n",
    "answers = []\n",
    "\n",
    "for page in pages:\n",
    "    url_to_scrape = base + question_subsite + page\n",
    "    r = requests.get(url_to_scrape)\n",
    "    soup = BeautifulSoup(r.text, \"lxml\")\n",
    "\n",
    "    answers.append((get_answers(soup)))\n",
    "    questions.append((get_questions(soup)))"
   ]
  },
  {
   "cell_type": "markdown",
   "metadata": {},
   "source": [
    "# Saving Results to DB"
   ]
  },
  {
   "cell_type": "code",
   "execution_count": 6,
   "metadata": {},
   "outputs": [],
   "source": [
    "import sqlite3\n",
    "conn = sqlite3.connect('GermanCitizenship.db')\n",
    "c = conn.cursor() \n",
    "\n",
    "\n",
    "c.execute(\"CREATE TABLE IF NOT EXISTS Question ([ID] INTEGER PRIMARY KEY,[Text] VARCHAR(1000), [Image] VARCHAR(250))\")          \n",
    "\n",
    "c.execute('''CREATE TABLE IF NOT EXISTS Answer ([ID] INTEGER PRIMARY KEY, [QuestionID] INTEGER, [Text] VARCHAR(1000),  [True] BOOL)''')\n",
    "\n",
    "c.execute('''CREATE TABLE IF NOT EXISTS ProgressEvent ([generated_id] INTEGER PRIMARY KEY, [QuestionID] INTEGER, [Success] BOOL)''')\n",
    "        \n",
    "                \n",
    "conn.commit()"
   ]
  },
  {
   "cell_type": "code",
   "execution_count": 7,
   "metadata": {},
   "outputs": [],
   "source": [
    "# add QUESTIONS to database \n",
    "for q in np.array(questions).reshape(300,3):\n",
    "    query = 'INSERT INTO Question (ID, Text, Image) VALUES (\"{}\", \"{}\", \"{}\");'.format(q[0], q[1], q[2])\n",
    "    c.execute(query)\n",
    "    \n",
    "conn.commit()\n",
    "\n",
    "# add ANSWERS to database\n",
    "for qid, a in enumerate(np.array(answers).reshape(300, 4, 2)):\n",
    "    for poss_answer in a:\n",
    "        query = 'INSERT INTO Answer (QuestionID, Text, True) VALUES (\"{}\", \"{}\", \"{}\");'.format(qid+1, poss_answer[0], poss_answer[1])\n",
    "        c.execute(query)\n",
    "    \n",
    "conn.commit()"
   ]
  },
  {
   "cell_type": "markdown",
   "metadata": {},
   "source": [
    "# Sanity Check"
   ]
  },
  {
   "cell_type": "code",
   "execution_count": 8,
   "metadata": {},
   "outputs": [],
   "source": [
    "conn = sqlite3.connect('GermanCitizenship.db')\n",
    "c = conn.cursor() \n",
    "c.execute('Select * from Question')\n",
    "\n",
    "df_answers = pd.read_sql('Select * from Answer', conn)\n",
    "df_questions = pd.read_sql('Select * from Question', conn)\n",
    "\n"
   ]
  },
  {
   "cell_type": "code",
   "execution_count": 9,
   "metadata": {},
   "outputs": [
    {
     "name": "stdout",
     "output_type": "stream",
     "text": [
      "   ID                                               Text Image\n",
      "0   1  In Deutschland dürfen Menschen offen etwas geg...  None\n",
      "1   2  In Deutschland können Eltern bis zum 14. Leben...  None\n",
      "2   3  Deutschland ist ein Rechtsstaat. Was ist damit...  None\n",
      "3   4  Welches Recht gehört zu den Grundrechten in De...  None\n",
      "4   5  Wahlen in Deutschland sind frei. Was bedeutet ...  None\n"
     ]
    }
   ],
   "source": [
    "print(df_questions.head())"
   ]
  },
  {
   "cell_type": "code",
   "execution_count": 10,
   "metadata": {},
   "outputs": [
    {
     "name": "stdout",
     "output_type": "stream",
     "text": [
      "   ID  QuestionID                               Text  True\n",
      "0   1           1       hier Religionsfreiheit gilt.     0\n",
      "1   2           1       die Menschen Steuern zahlen.     0\n",
      "2   3           1  die Menschen das Wahlrecht haben.     0\n",
      "3   4           1        hier Meinungsfreiheit gilt.     1\n",
      "4   5           2    Geschichtsunterricht teilnimmt.     0\n"
     ]
    }
   ],
   "source": [
    "print(df_answers.head())"
   ]
  },
  {
   "cell_type": "code",
   "execution_count": null,
   "metadata": {},
   "outputs": [],
   "source": []
  }
 ],
 "metadata": {
  "kernelspec": {
   "display_name": "Python 3",
   "language": "python",
   "name": "python3"
  },
  "language_info": {
   "codemirror_mode": {
    "name": "ipython",
    "version": 3
   },
   "file_extension": ".py",
   "mimetype": "text/x-python",
   "name": "python",
   "nbconvert_exporter": "python",
   "pygments_lexer": "ipython3",
   "version": "3.6.5"
  }
 },
 "nbformat": 4,
 "nbformat_minor": 2
}
